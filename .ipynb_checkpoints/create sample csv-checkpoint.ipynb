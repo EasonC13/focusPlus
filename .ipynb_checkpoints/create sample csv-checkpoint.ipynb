{
 "cells": [
  {
   "cell_type": "code",
   "execution_count": 2,
   "metadata": {},
   "outputs": [],
   "source": [
    "import pandas as pd\n",
    "import numpy as np"
   ]
  },
  {
   "cell_type": "code",
   "execution_count": 3,
   "metadata": {},
   "outputs": [],
   "source": [
    "df = pd.DataFrame()"
   ]
  },
  {
   "cell_type": "code",
   "execution_count": 4,
   "metadata": {},
   "outputs": [
    {
     "data": {
      "text/plain": [
       "900"
      ]
     },
     "execution_count": 4,
     "metadata": {},
     "output_type": "execute_result"
    }
   ],
   "source": [
    "1*60*15"
   ]
  },
  {
   "cell_type": "code",
   "execution_count": 5,
   "metadata": {},
   "outputs": [],
   "source": [
    "A = list(np.array(list(range(900))[0:150])/150)"
   ]
  },
  {
   "cell_type": "code",
   "execution_count": null,
   "metadata": {},
   "outputs": [],
   "source": []
  },
  {
   "cell_type": "code",
   "execution_count": 6,
   "metadata": {},
   "outputs": [],
   "source": [
    "def someRand(x):\n",
    "    x += np.random.rand()/3\n",
    "    return x\n",
    "B = list(map(someRand, list(np.array(list([1]*600)))))"
   ]
  },
  {
   "cell_type": "code",
   "execution_count": 7,
   "metadata": {},
   "outputs": [],
   "source": [
    "C = A[::-1]"
   ]
  },
  {
   "cell_type": "code",
   "execution_count": 8,
   "metadata": {},
   "outputs": [],
   "source": [
    "result = A+B+C"
   ]
  },
  {
   "cell_type": "code",
   "execution_count": 9,
   "metadata": {},
   "outputs": [
    {
     "data": {
      "text/plain": [
       "900"
      ]
     },
     "execution_count": 9,
     "metadata": {},
     "output_type": "execute_result"
    }
   ],
   "source": [
    "len(result)"
   ]
  },
  {
   "cell_type": "code",
   "execution_count": 10,
   "metadata": {},
   "outputs": [],
   "source": [
    "df[\"TimeStamp\"] = list(range(900))"
   ]
  },
  {
   "cell_type": "code",
   "execution_count": 11,
   "metadata": {},
   "outputs": [],
   "source": [
    "df[\"FocusRecord\"] = result"
   ]
  },
  {
   "cell_type": "code",
   "execution_count": 12,
   "metadata": {},
   "outputs": [
    {
     "data": {
      "text/plain": [
       "<Figure size 640x480 with 1 Axes>"
      ]
     },
     "metadata": {},
     "output_type": "display_data"
    }
   ],
   "source": [
    "import matplotlib.pyplot as plt\n",
    "plt.plot(df.FocusRecord)\n",
    "plt.show()"
   ]
  },
  {
   "cell_type": "code",
   "execution_count": 13,
   "metadata": {},
   "outputs": [],
   "source": [
    "df.to_csv(\"./data/sample_len900.csv\")"
   ]
  },
  {
   "cell_type": "markdown",
   "metadata": {},
   "source": [
    "# Create Json"
   ]
  },
  {
   "cell_type": "code",
   "execution_count": 80,
   "metadata": {},
   "outputs": [],
   "source": [
    "#截圖、攝影機拍照，存成 Json\n",
    "\n",
    "from PIL import ImageGrab, Image\n",
    "import os\n",
    "import random\n",
    "from base64 import b64decode, b64encode\n",
    "\n",
    "# 開資料夾\n",
    "if \"temp\" not in os.listdir():\n",
    "    os.mkdir(\"temp\")\n",
    "    \n",
    "if \"data\" not in os.listdir():\n",
    "    os.mkdir(\"data\")\n",
    "\n",
    "#攝影機\n",
    "#pip install opencv-python\n",
    "from cv2 import VideoCapture, cvtColor, COLOR_RGB2BGR\n",
    "cap = VideoCapture(0)\n",
    "\n",
    "def getWebCamImg():\n",
    "    ret, frame = cap.read()\n",
    "    frame = cvtColor(np.array(frame), COLOR_RGB2BGR)\n",
    "    return Image.fromarray(frame).resize((1280, 720), Image.ANTIALIAS)\n",
    "\n",
    "def getScreenShot():\n",
    "    screenShot = ImageGrab.grab()\n",
    "    screenShot = screenShot.resize((1280, 720), Image.ANTIALIAS)\n",
    "    return screenShot\n",
    "\n",
    "def getImgB64encode(img):\n",
    "    randomVal = random.getrandbits(32)\n",
    "    filename = \"./temp/%d.png\"%randomVal\n",
    "    img.save(filename)\n",
    "    img_encode = b64encode(open(filename, 'rb').read())\n",
    "    os.remove(filename)\n",
    "    return img_encode.decode()"
   ]
  },
  {
   "cell_type": "code",
   "execution_count": 83,
   "metadata": {},
   "outputs": [],
   "source": [
    "def grabImgByFrame(timeFrame, recordID = \"test\"):\n",
    "    if recordID not in os.listdir(\"./data/\"):\n",
    "        os.mkdir(\"./data/\"+recordID)\n",
    "    \n",
    "    screenShot = getScreenShot()\n",
    "    WebCam = getWebCamImg()\n",
    "\n",
    "    outJson = {\n",
    "        \"webCam\": getImgB64encode(WebCam),\n",
    "        \"screenShot\": getImgB64encode(screenShot), \n",
    "    }\n",
    "\n",
    "    import json\n",
    "\n",
    "    timeFrame = 0\n",
    "    filename = \"./data/\"+ recordID+\"/\"+ str(timeFrame) + \".json\"\n",
    "\n",
    "\n",
    "    with open(filename, 'w') as f:\n",
    "        json.dump(outJson,f)\n",
    "    \n",
    "    return filename"
   ]
  },
  {
   "cell_type": "code",
   "execution_count": 84,
   "metadata": {},
   "outputs": [],
   "source": [
    "grabImgByFrame(0)"
   ]
  },
  {
   "cell_type": "code",
   "execution_count": 85,
   "metadata": {},
   "outputs": [],
   "source": [
    "# Flask 的部分"
   ]
  },
  {
   "cell_type": "code",
   "execution_count": null,
   "metadata": {},
   "outputs": [
    {
     "name": "stdout",
     "output_type": "stream",
     "text": [
      " * Serving Flask app \"__main__\" (lazy loading)\n",
      " * Environment: production\n",
      "   WARNING: This is a development server. Do not use it in a production deployment.\n",
      "   Use a production WSGI server instead.\n",
      " * Debug mode: off\n"
     ]
    },
    {
     "name": "stderr",
     "output_type": "stream",
     "text": [
      " * Running on http://0.0.0.0:13523/ (Press CTRL+C to quit)\n",
      "[2020-07-24 15:54:49,524] ERROR in app: Exception on /getImg [GET]\n",
      "Traceback (most recent call last):\n",
      "  File \"/Users/eason/opt/anaconda3/lib/python3.7/site-packages/flask/app.py\", line 2446, in wsgi_app\n",
      "    response = self.full_dispatch_request()\n",
      "  File \"/Users/eason/opt/anaconda3/lib/python3.7/site-packages/flask/app.py\", line 1951, in full_dispatch_request\n",
      "    rv = self.handle_user_exception(e)\n",
      "  File \"/Users/eason/opt/anaconda3/lib/python3.7/site-packages/flask_cors/extension.py\", line 161, in wrapped_function\n",
      "    return cors_after_request(app.make_response(f(*args, **kwargs)))\n",
      "  File \"/Users/eason/opt/anaconda3/lib/python3.7/site-packages/flask/app.py\", line 1820, in handle_user_exception\n",
      "    reraise(exc_type, exc_value, tb)\n",
      "  File \"/Users/eason/opt/anaconda3/lib/python3.7/site-packages/flask/_compat.py\", line 39, in reraise\n",
      "    raise value\n",
      "  File \"/Users/eason/opt/anaconda3/lib/python3.7/site-packages/flask/app.py\", line 1949, in full_dispatch_request\n",
      "    rv = self.dispatch_request()\n",
      "  File \"/Users/eason/opt/anaconda3/lib/python3.7/site-packages/flask/app.py\", line 1935, in dispatch_request\n",
      "    return self.view_functions[rule.endpoint](**req.view_args)\n",
      "  File \"<ipython-input-107-b1b631e4f978>\", line 27, in getImg\n",
      "    return json.dump({\"status\": \"Good\", \"filename\":filename})\n",
      "TypeError: dump() missing 1 required positional argument: 'fp'\n",
      "127.0.0.1 - - [24/Jul/2020 15:54:49] \"GET /getImg HTTP/1.1\" 500 -\n"
     ]
    }
   ],
   "source": [
    "import numpy as np\n",
    "import pandas as pd\n",
    "import json\n",
    "\n",
    "from flask import Flask, request, abort\n",
    "app = Flask(__name__)\n",
    "\n",
    "from flask_cors import CORS\n",
    "CORS(app)\n",
    "\n",
    "\n",
    "@app.route(\"/start\")\n",
    "def start():\n",
    "    #在這邊放，你讓程式開始紀錄的 Python 程式碼\n",
    "    \n",
    "    \n",
    "    #print(request.cookies.get(WhatUwant)) #可以讀取cookies\n",
    "    return json.dump({\"status\": \"Good\"})\n",
    "\n",
    "@app.route(\"/test\")\n",
    "def test():\n",
    "    return str(\"Your test is successful.\")\n",
    "\n",
    "@app.route(\"/getImg\")\n",
    "def getImg():\n",
    "    filename = grabImgByFrame(0)\n",
    "    return json.dumps({\"status\": \"Good\", \"filename\":filename})\n",
    "\n",
    "#uvicorn filename:app --port 8001 --workers 1 --proxy-headers\n",
    "if __name__ == \"__main__\":\n",
    "    app.run(host = '0.0.0.0', port = 13523)"
   ]
  },
  {
   "cell_type": "code",
   "execution_count": null,
   "metadata": {},
   "outputs": [],
   "source": []
  },
  {
   "cell_type": "code",
   "execution_count": null,
   "metadata": {},
   "outputs": [],
   "source": []
  },
  {
   "cell_type": "code",
   "execution_count": null,
   "metadata": {},
   "outputs": [],
   "source": []
  },
  {
   "cell_type": "code",
   "execution_count": null,
   "metadata": {},
   "outputs": [],
   "source": []
  }
 ],
 "metadata": {
  "kernelspec": {
   "display_name": "Python 3",
   "language": "python",
   "name": "python3"
  },
  "language_info": {
   "codemirror_mode": {
    "name": "ipython",
    "version": 3
   },
   "file_extension": ".py",
   "mimetype": "text/x-python",
   "name": "python",
   "nbconvert_exporter": "python",
   "pygments_lexer": "ipython3",
   "version": "3.7.4"
  }
 },
 "nbformat": 4,
 "nbformat_minor": 2
}
