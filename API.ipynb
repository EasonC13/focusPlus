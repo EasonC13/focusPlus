{
 "cells": [
  {
   "cell_type": "code",
   "execution_count": 1,
   "metadata": {},
   "outputs": [],
   "source": [
    "#截圖、攝影機拍照，存成 Json\n",
    "\n",
    "from PIL import ImageGrab, Image\n",
    "import os\n",
    "import random\n",
    "from base64 import b64decode, b64encode\n",
    "import pandas as pd\n",
    "import numpy as np\n",
    "\n",
    "# 開資料夾\n",
    "if \"temp\" not in os.listdir():\n",
    "    os.mkdir(\"temp\")\n",
    "    \n",
    "if \"data\" not in os.listdir():\n",
    "    os.mkdir(\"data\")\n",
    "\n",
    "#攝影機\n",
    "#pip install opencv-python\n",
    "from cv2 import VideoCapture, cvtColor, COLOR_RGB2BGR\n",
    "cap = VideoCapture(0)\n",
    "\n",
    "def getWebCamImg():\n",
    "    ret, frame = cap.read()\n",
    "    frame = cvtColor(np.array(frame), COLOR_RGB2BGR)\n",
    "    return Image.fromarray(frame).resize((1280, 720), Image.ANTIALIAS)\n",
    "\n",
    "def getScreenShot():\n",
    "    screenShot = ImageGrab.grab()\n",
    "    screenShot = screenShot.resize((1280, 720), Image.ANTIALIAS)\n",
    "    return screenShot\n",
    "\n",
    "def getImgB64encode(img):\n",
    "    randomVal = random.getrandbits(32)\n",
    "    filename = \"./temp/%d.png\"%randomVal\n",
    "    img.save(filename)\n",
    "    img_encode = b64encode(open(filename, 'rb').read())\n",
    "    os.remove(filename)\n",
    "    return img_encode.decode()"
   ]
  },
  {
   "cell_type": "code",
   "execution_count": 2,
   "metadata": {},
   "outputs": [],
   "source": [
    "#彙整起來\n",
    "def grabImgByFrame(timeFrame, recordID = \"test\"):\n",
    "    if recordID not in os.listdir(\"./data/\"):\n",
    "        os.mkdir(\"./data/\"+recordID)\n",
    "    \n",
    "    screenShot = getScreenShot()\n",
    "    WebCam = getWebCamImg()\n",
    "\n",
    "    outJson = {\n",
    "        \"webCam\": getImgB64encode(WebCam),\n",
    "        \"screenShot\": getImgB64encode(screenShot), \n",
    "    }\n",
    "\n",
    "    import json\n",
    "\n",
    "    timeFrame = 0\n",
    "    filename = \"./data/\"+ recordID+\"/\"+ str(timeFrame) + \".json\"\n",
    "\n",
    "\n",
    "    with open(filename, 'w') as f:\n",
    "        json.dump(outJson,f)\n",
    "    \n",
    "    return filename"
   ]
  },
  {
   "cell_type": "markdown",
   "metadata": {},
   "source": [
    "# Flask API 的部分"
   ]
  },
  {
   "cell_type": "code",
   "execution_count": 7,
   "metadata": {},
   "outputs": [
    {
     "output_type": "error",
     "ename": "ModuleNotFoundError",
     "evalue": "No module named 'flask_cors'",
     "traceback": [
      "\u001b[1;31m---------------------------------------------------------------------------\u001b[0m",
      "\u001b[1;31mModuleNotFoundError\u001b[0m                       Traceback (most recent call last)",
      "\u001b[1;32m<ipython-input-7-c2b5533c3e26>\u001b[0m in \u001b[0;36m<module>\u001b[1;34m\u001b[0m\n\u001b[0;32m      6\u001b[0m \u001b[0mapp\u001b[0m \u001b[1;33m=\u001b[0m \u001b[0mFlask\u001b[0m\u001b[1;33m(\u001b[0m\u001b[0m__name__\u001b[0m\u001b[1;33m)\u001b[0m\u001b[1;33m\u001b[0m\u001b[0m\n\u001b[0;32m      7\u001b[0m \u001b[1;33m\u001b[0m\u001b[0m\n\u001b[1;32m----> 8\u001b[1;33m \u001b[1;32mfrom\u001b[0m \u001b[0mflask_cors\u001b[0m \u001b[1;32mimport\u001b[0m \u001b[0mCORS\u001b[0m\u001b[1;33m\u001b[0m\u001b[0m\n\u001b[0m\u001b[0;32m      9\u001b[0m \u001b[0mCORS\u001b[0m\u001b[1;33m(\u001b[0m\u001b[0mapp\u001b[0m\u001b[1;33m)\u001b[0m\u001b[1;33m\u001b[0m\u001b[0m\n\u001b[0;32m     10\u001b[0m \u001b[1;33m\u001b[0m\u001b[0m\n",
      "\u001b[1;31mModuleNotFoundError\u001b[0m: No module named 'flask_cors'"
     ]
    }
   ],
   "source": [
    "import numpy as np\n",
    "import pandas as pd\n",
    "import json\n",
    "\n",
    "from flask import Flask, request, abort\n",
    "app = Flask(__name__)\n",
    "\n",
    "from flask_cors import CORS\n",
    "CORS(app)\n",
    "\n",
    "\n",
    "@app.route(\"/start\")\n",
    "def start():\n",
    "    #在這邊放，你讓程式開始紀錄的 Python 程式碼\n",
    "    \n",
    "    \n",
    "    # print(request.cookies.get(WhatUwant)) #可以讀取cookies\n",
    "    return json.dump({\"status\": \"Good\"})\n",
    "\n",
    "\n",
    "\n",
    "@app.route(\"/getPrediction\")\n",
    "def get_prediction(user_id):\n",
    "    return json.dump({\"data\": [0.1, 0.8, 0.1, 0.5, 0.6]}), 200\n",
    "\n",
    "@app.route(\"/test\")\n",
    "\n",
    "def test():\n",
    "    return str(\"Your test is successful.\")\n",
    "\n",
    "@app.route(\"/getImg\")\n",
    "def getImg():\n",
    "    filename = grabImgByFrame(0)\n",
    "    return json.dumps({\"status\": \"Good\", \"filename\":filename})\n",
    "\n",
    "#uvicorn filename:app --port 8001 --workers 1 --proxy-headers\n",
    "if __name__ == \"__main__\":\n",
    "    app.run(host = '0.0.0.0', port = 13523)"
   ]
  },
  {
   "cell_type": "markdown",
   "metadata": {},
   "source": [
    "## 然後\n",
    "只要在瀏覽器打上 http://localhost:13520 就可以呼叫API囉<br>\n",
    "比方 http://localhost:13520/test 就會回應 \"Your test is successful.\"<br>\n",
    "http://localhost:13520/getImg 就會回應 Json 圖片檔案"
   ]
  },
  {
   "cell_type": "code",
   "execution_count": null,
   "metadata": {},
   "outputs": [],
   "source": []
  }
 ],
 "metadata": {
  "kernelspec": {
   "display_name": "Python 3",
   "language": "python",
   "name": "python3"
  },
  "language_info": {
   "codemirror_mode": {
    "name": "ipython",
    "version": 3
   },
   "file_extension": ".py",
   "mimetype": "text/x-python",
   "name": "python",
   "nbconvert_exporter": "python",
   "pygments_lexer": "ipython3",
   "version": "3.7.4"
  }
 },
 "nbformat": 4,
 "nbformat_minor": 2
}